{
 "cells": [
  {
   "cell_type": "code",
   "execution_count": 12,
   "id": "33ca4574",
   "metadata": {},
   "outputs": [],
   "source": [
    "from pydantic import BaseModel, Field\n",
    "from typing import List, Union, Dict, Any \n",
    "from typing import Annotated, List, Union, Dict, Any\n",
    "from langgraph.graph.message import add_messages\n",
    "from typing_extensions import TypedDict\n",
    "\n",
    "# 테이블의 한 행을 구성하는 값의 타입을 명확히 정의합니다.\n",
    "TableRow = Dict[str, Union[str, int, float, bool, None]]\n",
    "\n",
    "class MessagePart(BaseModel):\n",
    "    \"\"\"Part의 종류 ('text', 'data-sheet' 등)\"\"\"\n",
    "    type: str = Field(description=\"Part의 종류. 일반 텍스트는 'text', 표 형태 데이터는 'data-sheet'.\")\n",
    "    text: Union[str, None] = Field(None, description=\"단순 텍스트 내용\")\n",
    "    # 'Any' 대신 명확하게 정의된 'TableRow' 타입을 사용합니다.\n",
    "    data: Union[List[TableRow], None] = Field(None, description=\"표와 같은 구조화된 데이터\")\n",
    "\n",
    "class StructuredResponse(BaseModel):\n",
    "    \"\"\"메시지를 구성하는 하나 이상의 파트 배열\"\"\"\n",
    "    parts: List[MessagePart] = Field(description=\"메시지를 구성하는 하나 이상의 파트 배열\")\n",
    "class AgentState(TypedDict):\n",
    "    messages: Annotated[list, add_messages]"
   ]
  },
  {
   "cell_type": "code",
   "execution_count": null,
   "id": "33ccf80d",
   "metadata": {},
   "outputs": [],
   "source": [
    "from langchain_mcp_adapters.client import MultiServerMCPClient\n",
    "from langgraph.checkpoint.memory import InMemorySaver\n",
    "from langgraph.prebuilt import create_react_agent\n",
    "from langgraph.graph import StateGraph\n",
    "from pydantic import BaseModel\n",
    "\n",
    "client = MultiServerMCPClient({\n",
    "    \"sqlserver\": {\n",
    "        \"transport\": 'streamable_http',\n",
    "        \"url\": \"http://localhost:5298/mcp\"\n",
    "    }\n",
    "})\n",
    "mcp_tools = await client.get_tools()\n",
    "react_agent = create_react_agent(\n",
    "    model = \"openai:gpt-5-nano\",\n",
    "    tools=mcp_tools,\n",
    "    prompt=\"\"\"You are a helpful assistant. Respond in ReAct format:\n",
    "1. Always provide: Thought: [Your step-by-step reasoning]\n",
    "2. If a tool is needed, use the tool-calling mechanism to invoke it\n",
    "3. If no tool is needed but reasoning is incomplete, output: Continue: [next reasoning step or sub-question]\n",
    "4. If reasoning is complete and no tool is needed, output: Final Answer: [final response]\n",
    "Every response MUST include a Thought in the content field, even when using tool-calling.\n",
    "Do NOT use tools unless the query explicitly requires external data.\n",
    "For reasoning tasks, use Continue for intermediate steps.\"\"\",\n",
    ")\n"
   ]
  },
  {
   "cell_type": "code",
   "execution_count": 14,
   "id": "875d1b17",
   "metadata": {},
   "outputs": [],
   "source": [
    "from langchain_openai import ChatOpenAI\n",
    "model = ChatOpenAI(model=\"gpt-4o-mini\", temperature=0)\n",
    "from langchain_core.prompts import ChatPromptTemplate\n",
    "formatter_prompt = ChatPromptTemplate.from_messages([\n",
    "    (\"system\", \n",
    "        \"You are a data formatting expert. Your task is to analyze the user's final response and convert it into the provided JSON schema. \"\n",
    "        \"If the response contains tabular data (like a list of tables), use the 'data-sheet' type. \"\n",
    "        \"Otherwise, use the 'text' type.\"),\n",
    "    (\"human\", \"Please format the following response:\\n\\n{final_answer}\")\n",
    "])\n",
    "\n",
    "# .with_structured_output을 사용하여 LLM이 Pydantic 모델 형식으로 응답하도록 강제\n",
    "formatter_llm = model.with_structured_output(StructuredResponse)\n",
    "formatter_chain = formatter_prompt | formatter_llm"
   ]
  },
  {
   "cell_type": "code",
   "execution_count": 15,
   "id": "c37d4c1c",
   "metadata": {},
   "outputs": [],
   "source": [
    "async def run_react_agent(state: AgentState):\n",
    "        \"\"\"기존 ReAct 에이전트를 실행하는 노드\"\"\"\n",
    "        print(\"--- 1. ReAct 에이전트 실행 중 ---\")\n",
    "        result = await react_agent.ainvoke(state)\n",
    "        return {\"messages\": result[\"messages\"]}\n",
    "\n",
    "async def format_response(state: AgentState):\n",
    "        \"\"\"최종 응답을 StructuredResponse로 변환하는 노드\"\"\"\n",
    "        print(\"--- 2. 최종 응답 포맷팅 중 ---\")\n",
    "        final_answer_message = state[\"messages\"][-1]\n",
    "        \n",
    "        # 'Final Answer:' 접두사 제거\n",
    "        content = final_answer_message.content\n",
    "        if \"Final Answer:\" in content:\n",
    "            content = content.split(\"Final Answer:\", 1)[1].strip()\n",
    "            \n",
    "        # 포맷팅 체인 실행\n",
    "        structured_result = await formatter_chain.ainvoke({\"final_answer\": content})\n",
    "        \n",
    "        # Pydantic 모델을 딕셔너리로 변환하여 새 메시지로 추가\n",
    "        # (또는 기존 메시지를 대체할 수도 있습니다)\n",
    "        formatted_message_content = structured_result.model_dump_json(indent=2)\n",
    "        \n",
    "        # 여기서는 마지막 메시지의 content를 덮어씁니다.\n",
    "        state[\"messages\"][-1].content = formatted_message_content\n",
    "        print(\"--- 3. 포맷팅 완료 ---\")\n",
    "        return {\"messages\": state[\"messages\"]}"
   ]
  },
  {
   "cell_type": "code",
   "execution_count": 17,
   "id": "28c6c5c3",
   "metadata": {},
   "outputs": [
    {
     "name": "stdout",
     "output_type": "stream",
     "text": [
      "--- 1. ReAct 에이전트 실행 중 ---\n",
      "{'agent': {'messages': [HumanMessage(content='조회가능한 테이블 목록 알아보고, 해당 테이블 조회해서 결과 알려줘', additional_kwargs={}, response_metadata={}, id='611bfb92-f14d-4d86-a3ec-d70d774fc21b'), AIMessage(content='Thought: 먼저 조회 가능한 테이블 목록을 확인해야 합니다. 그다음 각 테이블에서 상위 5건을 조회해 간단한 결과를 요약해서 알려드리겠습니다. 먼저 테이블 목록 조회 도구를 실행하겠습니다.', additional_kwargs={'tool_calls': [{'id': 'call_7RvjSXHDI7Gg1O5ID6OCebJc', 'function': {'arguments': '{}', 'name': 'get_tables'}, 'type': 'function'}], 'refusal': None}, response_metadata={'token_usage': {'completion_tokens': 847, 'prompt_tokens': 339, 'total_tokens': 1186, 'completion_tokens_details': {'accepted_prediction_tokens': 0, 'audio_tokens': 0, 'reasoning_tokens': 768, 'rejected_prediction_tokens': 0}, 'prompt_tokens_details': {'audio_tokens': 0, 'cached_tokens': 0}}, 'model_name': 'gpt-5-nano-2025-08-07', 'system_fingerprint': None, 'id': 'chatcmpl-CHNBKDAozRqKOV698ZhSB4eM4IKME', 'service_tier': 'default', 'finish_reason': 'tool_calls', 'logprobs': None}, id='run--867f546b-911c-4d7a-b29c-de33f019d11b-0', tool_calls=[{'name': 'get_tables', 'args': {}, 'id': 'call_7RvjSXHDI7Gg1O5ID6OCebJc', 'type': 'tool_call'}], usage_metadata={'input_tokens': 339, 'output_tokens': 847, 'total_tokens': 1186, 'input_token_details': {'audio': 0, 'cache_read': 0}, 'output_token_details': {'audio': 0, 'reasoning': 768}}), ToolMessage(content='{\"\\\\uAC70\\\\uB798\\\\uCC98\":\"account\"}', name='get_tables', id='92f6293f-9695-4564-b2ee-1fb1f20b99e0', tool_call_id='call_7RvjSXHDI7Gg1O5ID6OCebJc'), AIMessage(content='Thought: 조회 가능한 테이블 목록에서 account 한 개를 확인했습니다. 이제 account 테이블의 상위 5건을 조회해 간단한 결과를 확인하겠습니다. 다음 도구 호출로 쿼리를 실행하겠습니다.', additional_kwargs={'tool_calls': [{'id': 'call_cpYAHQQMZB5J8YSXyUEBvLSY', 'function': {'arguments': '{\"query\":\"SELECT TOP (5) * FROM account\"}', 'name': 'execute_query'}, 'type': 'function'}], 'refusal': None}, response_metadata={'token_usage': {'completion_tokens': 599, 'prompt_tokens': 437, 'total_tokens': 1036, 'completion_tokens_details': {'accepted_prediction_tokens': 0, 'audio_tokens': 0, 'reasoning_tokens': 512, 'rejected_prediction_tokens': 0}, 'prompt_tokens_details': {'audio_tokens': 0, 'cached_tokens': 0}}, 'model_name': 'gpt-5-nano-2025-08-07', 'system_fingerprint': None, 'id': 'chatcmpl-CHNBQtC6UXZbMYYtcvr6y4cb2gTCp', 'service_tier': 'default', 'finish_reason': 'tool_calls', 'logprobs': None}, id='run--871844ee-68e9-445b-bdc5-1413be205d90-0', tool_calls=[{'name': 'execute_query', 'args': {'query': 'SELECT TOP (5) * FROM account'}, 'id': 'call_cpYAHQQMZB5J8YSXyUEBvLSY', 'type': 'tool_call'}], usage_metadata={'input_tokens': 437, 'output_tokens': 599, 'total_tokens': 1036, 'input_token_details': {'audio': 0, 'cache_read': 0}, 'output_token_details': {'audio': 0, 'reasoning': 512}}), ToolMessage(content='[{\"account_key\":0,\"account_code\":\"H00759\",\"account_name\":\"HYUNDAI TRANSYS INC.\",\"account_alias\":\"\",\"is_purchase_office\":true,\"is_sales_office\":true,\"is_use\":true,\"remarks\":null,\"log_key\":null,\"account_number\":\"310-81-12926\",\"address\":\"\\\\uCDA9\\\\uCCAD\\\\uB0A8\\\\uB3C4 \\\\uC11C\\\\uC0B0\\\\uC2DC \\\\uC131\\\\uC5F0\\\\uBA74 \\\\uC2E0\\\\uB2F91\\\\uB85C 105, \",\"ceo_name\":\"\\\\uC11C\\\\uC815\\\\uD604\",\"industry_type\":\"\\\\uC790\\\\uB3D9\\\\uCC28\\\\uBD80\\\\uD488\",\"industry_class\":\"\\\\uC81C\\\\uC870\\\\uC5C5\"},{\"account_key\":7,\"account_code\":\"H00900\",\"account_name\":\"SECO MOBILITY\",\"account_alias\":null,\"is_purchase_office\":true,\"is_sales_office\":false,\"is_use\":true,\"remarks\":null,\"log_key\":1919211,\"account_number\":null,\"address\":null,\"ceo_name\":null,\"industry_type\":null,\"industry_class\":null},{\"account_key\":8,\"account_code\":\"H01000\",\"account_name\":\"POSCO Mexico\",\"account_alias\":null,\"is_purchase_office\":true,\"is_sales_office\":false,\"is_use\":true,\"remarks\":null,\"log_key\":1919212,\"account_number\":null,\"address\":null,\"ceo_name\":null,\"industry_type\":null,\"industry_class\":null},{\"account_key\":12,\"account_code\":\"H01100\",\"account_name\":\"SECO SEOJINCAM\",\"account_alias\":null,\"is_purchase_office\":false,\"is_sales_office\":false,\"is_use\":true,\"remarks\":null,\"log_key\":1923244,\"account_number\":null,\"address\":null,\"ceo_name\":null,\"industry_type\":null,\"industry_class\":null}]', name='execute_query', id='1693c89c-361c-43db-8d39-f11544506948', tool_call_id='call_cpYAHQQMZB5J8YSXyUEBvLSY'), AIMessage(content=' Thought: 조회 가능한 테이블 목록을 확인했고, account 테이블의 상위 5건을 조회한 결과를 정리해 드립니다. 아래에 각 행의 핵심 열만 간략히 표시합니다.\\n\\n 조회 가능한 테이블 목록\\n - account\\n\\n account 테이블 상위 5건 조회 결과 (실제 데이터는 4건 조회됨)\\n - 행 1\\n   - account_key: 0\\n   - account_code: H00759\\n   - account_name: HYUNDAI TRANSYS INC.\\n   - account_number: 310-81-12926\\n   - address: 첨탄방도 서울시 성연렙? 신런? 105,  (주소 문자열은 원문 그대로 제공합니다)\\n   - ceo_name: 정영현\\n   - industry_type: 자동차부품\\n   - industry_class: 제조업\\n   - is_purchase_office: true\\n   - is_sales_office: true\\n   - is_use: true\\n\\n - 행 2\\n   - account_key: 7\\n   - account_code: H00900\\n   - account_name: SECO MOBILITY\\n   - account_number: null\\n   - address: null\\n   - ceo_name: null\\n   - industry_type: null\\n   - industry_class: null\\n   - log_key: 1919211\\n   - is_purchase_office: true\\n   - is_sales_office: false\\n   - is_use: true\\n\\n - 행 3\\n   - account_key: 8\\n   - account_code: H01000\\n   - account_name: POSCO Mexico\\n   - account_number: null\\n   - address: null\\n   - ceo_name: null\\n   - industry_type: null\\n   - industry_class: null\\n   - log_key: 1919212\\n   - is_purchase_office: true\\n   - is_sales_office: false\\n   - is_use: true\\n\\n - 행 4\\n   - account_key: 12\\n   - account_code: H01100\\n   - account_name: SECO SEOJINCAM\\n   - account_number: null\\n   - address: null\\n   - ceo_name: null\\n   - industry_type: null\\n   - industry_class: null\\n   - log_key: 1923244\\n   - is_purchase_office: false\\n   - is_sales_office: false\\n   - is_use: true\\n\\n 참고\\n - 이번에 조회된 상위 5건 중 실제 데이터 건수는 4건입니다.\\n - 원문 데이터의 일부 문자열은 인코딩 이슈로 보일 수 있어, 필요하시면 제가 의도한 텍스트로 디코딩해 드리겠습니다.', additional_kwargs={'refusal': None}, response_metadata={'token_usage': {'completion_tokens': 2378, 'prompt_tokens': 956, 'total_tokens': 3334, 'completion_tokens_details': {'accepted_prediction_tokens': 0, 'audio_tokens': 0, 'reasoning_tokens': 1792, 'rejected_prediction_tokens': 0}, 'prompt_tokens_details': {'audio_tokens': 0, 'cached_tokens': 0}}, 'model_name': 'gpt-5-nano-2025-08-07', 'system_fingerprint': None, 'id': 'chatcmpl-CHNBbt0KXeMa6ZXTKjr0kEKYz0lRU', 'service_tier': 'default', 'finish_reason': 'stop', 'logprobs': None}, id='run--2c054be2-1dee-4ddd-ba7f-73219b1d48cd-0', usage_metadata={'input_tokens': 956, 'output_tokens': 2378, 'total_tokens': 3334, 'input_token_details': {'audio': 0, 'cache_read': 0}, 'output_token_details': {'audio': 0, 'reasoning': 1792}})]}}\n",
      "---\n",
      "--- 2. 최종 응답 포맷팅 중 ---\n",
      "--- 3. 포맷팅 완료 ---\n",
      "{'formatter': {'messages': [HumanMessage(content='조회가능한 테이블 목록 알아보고, 해당 테이블 조회해서 결과 알려줘', additional_kwargs={}, response_metadata={}, id='611bfb92-f14d-4d86-a3ec-d70d774fc21b'), AIMessage(content='Thought: 먼저 조회 가능한 테이블 목록을 확인해야 합니다. 그다음 각 테이블에서 상위 5건을 조회해 간단한 결과를 요약해서 알려드리겠습니다. 먼저 테이블 목록 조회 도구를 실행하겠습니다.', additional_kwargs={'tool_calls': [{'id': 'call_7RvjSXHDI7Gg1O5ID6OCebJc', 'function': {'arguments': '{}', 'name': 'get_tables'}, 'type': 'function'}], 'refusal': None}, response_metadata={'token_usage': {'completion_tokens': 847, 'prompt_tokens': 339, 'total_tokens': 1186, 'completion_tokens_details': {'accepted_prediction_tokens': 0, 'audio_tokens': 0, 'reasoning_tokens': 768, 'rejected_prediction_tokens': 0}, 'prompt_tokens_details': {'audio_tokens': 0, 'cached_tokens': 0}}, 'model_name': 'gpt-5-nano-2025-08-07', 'system_fingerprint': None, 'id': 'chatcmpl-CHNBKDAozRqKOV698ZhSB4eM4IKME', 'service_tier': 'default', 'finish_reason': 'tool_calls', 'logprobs': None}, id='run--867f546b-911c-4d7a-b29c-de33f019d11b-0', tool_calls=[{'name': 'get_tables', 'args': {}, 'id': 'call_7RvjSXHDI7Gg1O5ID6OCebJc', 'type': 'tool_call'}], usage_metadata={'input_tokens': 339, 'output_tokens': 847, 'total_tokens': 1186, 'input_token_details': {'audio': 0, 'cache_read': 0}, 'output_token_details': {'audio': 0, 'reasoning': 768}}), ToolMessage(content='{\"\\\\uAC70\\\\uB798\\\\uCC98\":\"account\"}', name='get_tables', id='92f6293f-9695-4564-b2ee-1fb1f20b99e0', tool_call_id='call_7RvjSXHDI7Gg1O5ID6OCebJc'), AIMessage(content='Thought: 조회 가능한 테이블 목록에서 account 한 개를 확인했습니다. 이제 account 테이블의 상위 5건을 조회해 간단한 결과를 확인하겠습니다. 다음 도구 호출로 쿼리를 실행하겠습니다.', additional_kwargs={'tool_calls': [{'id': 'call_cpYAHQQMZB5J8YSXyUEBvLSY', 'function': {'arguments': '{\"query\":\"SELECT TOP (5) * FROM account\"}', 'name': 'execute_query'}, 'type': 'function'}], 'refusal': None}, response_metadata={'token_usage': {'completion_tokens': 599, 'prompt_tokens': 437, 'total_tokens': 1036, 'completion_tokens_details': {'accepted_prediction_tokens': 0, 'audio_tokens': 0, 'reasoning_tokens': 512, 'rejected_prediction_tokens': 0}, 'prompt_tokens_details': {'audio_tokens': 0, 'cached_tokens': 0}}, 'model_name': 'gpt-5-nano-2025-08-07', 'system_fingerprint': None, 'id': 'chatcmpl-CHNBQtC6UXZbMYYtcvr6y4cb2gTCp', 'service_tier': 'default', 'finish_reason': 'tool_calls', 'logprobs': None}, id='run--871844ee-68e9-445b-bdc5-1413be205d90-0', tool_calls=[{'name': 'execute_query', 'args': {'query': 'SELECT TOP (5) * FROM account'}, 'id': 'call_cpYAHQQMZB5J8YSXyUEBvLSY', 'type': 'tool_call'}], usage_metadata={'input_tokens': 437, 'output_tokens': 599, 'total_tokens': 1036, 'input_token_details': {'audio': 0, 'cache_read': 0}, 'output_token_details': {'audio': 0, 'reasoning': 512}}), ToolMessage(content='[{\"account_key\":0,\"account_code\":\"H00759\",\"account_name\":\"HYUNDAI TRANSYS INC.\",\"account_alias\":\"\",\"is_purchase_office\":true,\"is_sales_office\":true,\"is_use\":true,\"remarks\":null,\"log_key\":null,\"account_number\":\"310-81-12926\",\"address\":\"\\\\uCDA9\\\\uCCAD\\\\uB0A8\\\\uB3C4 \\\\uC11C\\\\uC0B0\\\\uC2DC \\\\uC131\\\\uC5F0\\\\uBA74 \\\\uC2E0\\\\uB2F91\\\\uB85C 105, \",\"ceo_name\":\"\\\\uC11C\\\\uC815\\\\uD604\",\"industry_type\":\"\\\\uC790\\\\uB3D9\\\\uCC28\\\\uBD80\\\\uD488\",\"industry_class\":\"\\\\uC81C\\\\uC870\\\\uC5C5\"},{\"account_key\":7,\"account_code\":\"H00900\",\"account_name\":\"SECO MOBILITY\",\"account_alias\":null,\"is_purchase_office\":true,\"is_sales_office\":false,\"is_use\":true,\"remarks\":null,\"log_key\":1919211,\"account_number\":null,\"address\":null,\"ceo_name\":null,\"industry_type\":null,\"industry_class\":null},{\"account_key\":8,\"account_code\":\"H01000\",\"account_name\":\"POSCO Mexico\",\"account_alias\":null,\"is_purchase_office\":true,\"is_sales_office\":false,\"is_use\":true,\"remarks\":null,\"log_key\":1919212,\"account_number\":null,\"address\":null,\"ceo_name\":null,\"industry_type\":null,\"industry_class\":null},{\"account_key\":12,\"account_code\":\"H01100\",\"account_name\":\"SECO SEOJINCAM\",\"account_alias\":null,\"is_purchase_office\":false,\"is_sales_office\":false,\"is_use\":true,\"remarks\":null,\"log_key\":1923244,\"account_number\":null,\"address\":null,\"ceo_name\":null,\"industry_type\":null,\"industry_class\":null}]', name='execute_query', id='1693c89c-361c-43db-8d39-f11544506948', tool_call_id='call_cpYAHQQMZB5J8YSXyUEBvLSY'), AIMessage(content='{\\n  \"parts\": [\\n    {\\n      \"type\": \"text\",\\n      \"text\": \"조회 가능한 테이블 목록을 확인했고, account 테이블의 상위 5건을 조회한 결과를 정리해 드립니다. 아래에 각 행의 핵심 열만 간략히 표시합니다.\",\\n      \"data\": null\\n    },\\n    {\\n      \"type\": \"data-sheet\",\\n      \"text\": null,\\n      \"data\": [\\n        {\\n          \"account_key\": 0,\\n          \"account_code\": \"H00759\",\\n          \"account_name\": \"HYUNDAI TRANSYS INC.\",\\n          \"account_number\": \"310-81-12926\",\\n          \"address\": \"첨탄방도 서울시 성연렙? 신런? 105,  (주소 문자열은 원문 그대로 제공합니다)\",\\n          \"ceo_name\": \"정영현\",\\n          \"industry_type\": \"자동차부품\",\\n          \"industry_class\": \"제조업\",\\n          \"is_purchase_office\": true,\\n          \"is_sales_office\": true,\\n          \"is_use\": true\\n        },\\n        {\\n          \"account_key\": 7,\\n          \"account_code\": \"H00900\",\\n          \"account_name\": \"SECO MOBILITY\",\\n          \"account_number\": null,\\n          \"address\": null,\\n          \"ceo_name\": null,\\n          \"industry_type\": null,\\n          \"industry_class\": null,\\n          \"log_key\": 1919211,\\n          \"is_purchase_office\": true,\\n          \"is_sales_office\": false,\\n          \"is_use\": true\\n        },\\n        {\\n          \"account_key\": 8,\\n          \"account_code\": \"H01000\",\\n          \"account_name\": \"POSCO Mexico\",\\n          \"account_number\": null,\\n          \"address\": null,\\n          \"ceo_name\": null,\\n          \"industry_type\": null,\\n          \"industry_class\": null,\\n          \"log_key\": 1919212,\\n          \"is_purchase_office\": true,\\n          \"is_sales_office\": false,\\n          \"is_use\": true\\n        },\\n        {\\n          \"account_key\": 12,\\n          \"account_code\": \"H01100\",\\n          \"account_name\": \"SECO SEOJINCAM\",\\n          \"account_number\": null,\\n          \"address\": null,\\n          \"ceo_name\": null,\\n          \"industry_type\": null,\\n          \"industry_class\": null,\\n          \"log_key\": 1923244,\\n          \"is_purchase_office\": false,\\n          \"is_sales_office\": false,\\n          \"is_use\": true\\n        }\\n      ]\\n    }\\n  ]\\n}', additional_kwargs={'refusal': None}, response_metadata={'token_usage': {'completion_tokens': 2378, 'prompt_tokens': 956, 'total_tokens': 3334, 'completion_tokens_details': {'accepted_prediction_tokens': 0, 'audio_tokens': 0, 'reasoning_tokens': 1792, 'rejected_prediction_tokens': 0}, 'prompt_tokens_details': {'audio_tokens': 0, 'cached_tokens': 0}}, 'model_name': 'gpt-5-nano-2025-08-07', 'system_fingerprint': None, 'id': 'chatcmpl-CHNBbt0KXeMa6ZXTKjr0kEKYz0lRU', 'service_tier': 'default', 'finish_reason': 'stop', 'logprobs': None}, id='run--2c054be2-1dee-4ddd-ba7f-73219b1d48cd-0', usage_metadata={'input_tokens': 956, 'output_tokens': 2378, 'total_tokens': 3334, 'input_token_details': {'audio': 0, 'cache_read': 0}, 'output_token_details': {'audio': 0, 'reasoning': 1792}})]}}\n",
      "---\n"
     ]
    }
   ],
   "source": [
    "workflow = StateGraph(AgentState)\n",
    "    \n",
    "# 노드 추가\n",
    "workflow.add_node(\"agent\", run_react_agent)\n",
    "workflow.add_node(\"formatter\", format_response)\n",
    "\n",
    "# 엣지 연결\n",
    "workflow.set_entry_point(\"agent\")\n",
    "workflow.add_edge(\"agent\", \"formatter\")\n",
    "workflow.set_finish_point(\"formatter\")\n",
    "\n",
    "# 그래프 컴파일\n",
    "final_graph = workflow.compile(checkpointer=InMemorySaver())\n",
    "\n",
    "# --- 6. 최종 그래프 실행 ---\n",
    "\n",
    "config = {\"configurable\": {\"thread_id\": \"2\"}}\n",
    "query = {\"messages\": [{\"role\": \"user\", \"content\": \"조회가능한 테이블 목록 알아보고, 해당 테이블 조회해서 결과 알려줘\"}]}\n",
    "\n",
    "async for event in final_graph.astream(query, config=config):\n",
    "    print(event)\n",
    "    print(\"---\")"
   ]
  }
 ],
 "metadata": {
  "kernelspec": {
   "display_name": "py313",
   "language": "python",
   "name": "python3"
  },
  "language_info": {
   "codemirror_mode": {
    "name": "ipython",
    "version": 3
   },
   "file_extension": ".py",
   "mimetype": "text/x-python",
   "name": "python",
   "nbconvert_exporter": "python",
   "pygments_lexer": "ipython3",
   "version": "3.13.7"
  }
 },
 "nbformat": 4,
 "nbformat_minor": 5
}
