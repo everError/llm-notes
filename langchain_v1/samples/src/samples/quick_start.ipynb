{
 "cells": [
  {
   "cell_type": "code",
   "execution_count": 3,
   "id": "b7dc8106",
   "metadata": {},
   "outputs": [
    {
     "data": {
      "text/plain": [
       "True"
      ]
     },
     "execution_count": 3,
     "metadata": {},
     "output_type": "execute_result"
    }
   ],
   "source": [
    "from dotenv import load_dotenv\n",
    "load_dotenv()"
   ]
  },
  {
   "cell_type": "markdown",
   "id": "7db26423",
   "metadata": {},
   "source": [
    "### 빠른 시작 샘플 코드"
   ]
  },
  {
   "cell_type": "code",
   "execution_count": 6,
   "id": "3796d26d",
   "metadata": {},
   "outputs": [
    {
     "name": "stdout",
     "output_type": "stream",
     "text": [
      "Weather(temperature=70.0, condition='sunny')\n"
     ]
    }
   ],
   "source": [
    "from langchain.agents import create_agent\n",
    "from langchain_core.messages import HumanMessage\n",
    "from pydantic import BaseModel\n",
    "\n",
    "class Weather(BaseModel):\n",
    "    temperature: float\n",
    "    condition: str\n",
    "\n",
    "def weather_tool(city: str) -> str:\n",
    "    \"\"\"Get weather for a given city.\"\"\"\n",
    "    return f\"it's sunny and 70 degrees in {city}\"\n",
    "\n",
    "agent = create_agent(\n",
    "    model=\"openai:gpt-4o-mini\",\n",
    "    tools=[weather_tool],\n",
    "    response_format=Weather\n",
    ")\n",
    "\n",
    "result = agent.invoke({\"messages\": [HumanMessage(\"What`s the weather in SF?\")]})\n",
    "print(repr(result[\"structured_response\"]))"
   ]
  },
  {
   "cell_type": "markdown",
   "id": "2c4a1a61",
   "metadata": {},
   "source": [
    "### 시스템 프롬프트 정의\n",
    "    구체적이고 실행 가능한 방식으로 작성"
   ]
  },
  {
   "cell_type": "code",
   "execution_count": 8,
   "id": "18f569c2",
   "metadata": {},
   "outputs": [],
   "source": [
    "system_prompt = \"\"\"You are an expert weather forecaster, who speaks in puns.\n",
    "\n",
    "You have access to two tools:\n",
    "\n",
    "- get_weather_for_location: use this to get the weather for a specific location\n",
    "- get_user_location: use this to get the user's location\n",
    "\n",
    "If a user asks you for the weather, make sure you know the location. \n",
    "If you can tell from the question that they mean whereever they are, use the get_user_location tool to find their location.\"\"\""
   ]
  },
  {
   "cell_type": "markdown",
   "id": "b91d8c8b",
   "metadata": {},
   "source": [
    "### 도구 생성"
   ]
  },
  {
   "cell_type": "code",
   "execution_count": null,
   "id": "27bcbf5e",
   "metadata": {},
   "outputs": [],
   "source": [
    "from langchain_core.tools import tool\n",
    "from langgraph.runtime import get_runtime\n",
    "\n",
    "def get_weather_for_location(city: str) -> str:  # (1)!\n",
    "    \"\"\"Get weather for a given city.\"\"\"\n",
    "    return f\"It's always sunny in {city}!\"\n",
    "\n",
    "from langchain_core.runnables import RunnableConfig\n",
    "\n",
    "USER_LOCATION = {\n",
    "    \"1\": \"Florida\",\n",
    "    \"2\": \"SF\"\n",
    "}\n",
    "\n",
    "@tool\n",
    "def get_user_location(config: RunnableConfig) -> str:\n",
    "    \"\"\"Retrieve user information based on user ID.\"\"\"\n",
    "    runtime = get_runtime()\n",
    "    user_id = runtime.context['user_id']\n",
    "    return USER_LOCATION[user_id]"
   ]
  },
  {
   "cell_type": "code",
   "execution_count": 13,
   "id": "b09c4af6",
   "metadata": {},
   "outputs": [],
   "source": [
    "from langchain.chat_models import init_chat_model\n",
    "\n",
    "model = init_chat_model(\n",
    "    model=\"openai:gpt-4o-mini\",\n",
    "    temperature=0\n",
    ")"
   ]
  },
  {
   "cell_type": "markdown",
   "id": "1521c177",
   "metadata": {},
   "source": [
    "### 에이전트가 예측 가능한 형식으로 데이터를 반환하도록 보장 `DataClass`"
   ]
  },
  {
   "cell_type": "code",
   "execution_count": 3,
   "id": "a28c7dd0",
   "metadata": {},
   "outputs": [],
   "source": [
    "from dataclasses import dataclass\n",
    "\n",
    "@dataclass\n",
    "class WeatherResponse:\n",
    "    conditions: str\n",
    "    punny_response: str"
   ]
  },
  {
   "cell_type": "markdown",
   "id": "5bb63516",
   "metadata": {},
   "source": [
    "### 대화 내역을 기억하도록 설정"
   ]
  },
  {
   "cell_type": "code",
   "execution_count": 18,
   "id": "f67ebc15",
   "metadata": {},
   "outputs": [],
   "source": [
    "from langgraph.checkpoint.memory import InMemorySaver\n",
    "\n",
    "checkpointer = InMemorySaver()"
   ]
  },
  {
   "cell_type": "code",
   "execution_count": 19,
   "id": "2f517a17",
   "metadata": {},
   "outputs": [
    {
     "name": "stdout",
     "output_type": "stream",
     "text": [
      "Runtime(context={'user_id': '1'}, store=None, stream_writer=<function Pregel.stream.<locals>.stream_writer at 0x00000292EFC637E0>, previous=None)\n"
     ]
    },
    {
     "data": {
      "text/plain": [
       "WeatherResponse(conditions='sunny', punny_response=\"You're welcome! I'm just trying to brighten your day!\")"
      ]
     },
     "execution_count": 19,
     "metadata": {},
     "output_type": "execute_result"
    }
   ],
   "source": [
    "agent = create_agent(\n",
    "    model=model,\n",
    "    prompt=system_prompt,\n",
    "    tools=[get_user_location, get_weather_for_location],\n",
    "    response_format=WeatherResponse,\n",
    "    checkpointer=checkpointer\n",
    ")\n",
    "\n",
    "config = {\"configurable\": {\"thread_id\": \"1\"}}\n",
    "context = {\"user_id\": \"1\"}\n",
    "response = agent.invoke(\n",
    "    {\"messages\": [{\"role\": \"user\", \"content\": \"what is the weather outside?\"}]},\n",
    "    config=config,\n",
    "    context=context\n",
    ")\n",
    "\n",
    "response['structured_response']\n",
    "\n",
    "response = agent.invoke(\n",
    "    {\"messages\": [{\"role\": \"user\", \"content\": \"thank you!\"}]},\n",
    "    config=config,\n",
    "    context=context\n",
    ")\n",
    "\n",
    "response['structured_response']"
   ]
  }
 ],
 "metadata": {
  "kernelspec": {
   "display_name": "py313",
   "language": "python",
   "name": "python3"
  },
  "language_info": {
   "codemirror_mode": {
    "name": "ipython",
    "version": 3
   },
   "file_extension": ".py",
   "mimetype": "text/x-python",
   "name": "python",
   "nbconvert_exporter": "python",
   "pygments_lexer": "ipython3",
   "version": "3.13.5"
  }
 },
 "nbformat": 4,
 "nbformat_minor": 5
}
